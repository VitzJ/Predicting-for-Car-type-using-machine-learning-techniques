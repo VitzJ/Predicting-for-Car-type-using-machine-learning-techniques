{
 "cells": [
  {
   "cell_type": "code",
   "execution_count": 4,
   "id": "68da5543",
   "metadata": {},
   "outputs": [
    {
     "name": "stdout",
     "output_type": "stream",
     "text": [
      "Successfully made csv file\n"
     ]
    }
   ],
   "source": [
    "import re\n",
    "with open('C:/Users/vitzj/Desktop/Kaggle/Second hand car prices/PDP_ICE.csv', 'r') as myfile: \n",
    "  with open('C:/Users/vitzj/Desktop/Kaggle/Second hand car prices/PDP_ICE_fixed.csv', 'w') as csv_file:\n",
    "    for line in myfile:\n",
    "       \n",
    "      # Replace every tab with comma\n",
    "      fileContent = re.sub(\"\\t\", \",\", line)\n",
    "       \n",
    "      # Writing into csv file\n",
    "      csv_file.write(fileContent)\n",
    " \n",
    "# output\n",
    "print(\"Successfully made csv file\")"
   ]
  }
 ],
 "metadata": {
  "kernelspec": {
   "display_name": "Python 3 (ipykernel)",
   "language": "python",
   "name": "python3"
  },
  "language_info": {
   "codemirror_mode": {
    "name": "ipython",
    "version": 3
   },
   "file_extension": ".py",
   "mimetype": "text/x-python",
   "name": "python",
   "nbconvert_exporter": "python",
   "pygments_lexer": "ipython3",
   "version": "3.9.12"
  }
 },
 "nbformat": 4,
 "nbformat_minor": 5
}
